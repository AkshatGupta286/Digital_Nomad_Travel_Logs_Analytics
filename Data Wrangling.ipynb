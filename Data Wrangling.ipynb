{
 "cells": [
  {
   "cell_type": "markdown",
   "metadata": {},
   "source": [
    "## Data Wrangling\n",
    "\n",
    "The Dataset we have is in unstructured format (.txt file). Therefore, we first need to structure it and convert it into a format which is easier to work on."
   ]
  },
  {
   "cell_type": "code",
   "execution_count": 1,
   "metadata": {},
   "outputs": [],
   "source": [
    "with open(\"Datasets/Digital Nomad Travel Logs.txt\") as file:\n",
    "    data = file.readlines()\n",
    "\n",
    "# You can uncomment the code written below to see the output\n",
    "# It is not shown cz output size is very big \n",
    "\n",
    "# data"
   ]
  },
  {
   "cell_type": "markdown",
   "metadata": {},
   "source": [
    "## String Dictionary to Dictionary\n",
    "\n",
    "As we can see the data currently is a list with only 1 element which is a string dictionary. Our task for now is to convert that string dictionary into a dictionary. For this we will use the json package of Python"
   ]
  },
  {
   "cell_type": "code",
   "execution_count": 2,
   "metadata": {},
   "outputs": [],
   "source": [
    "import json\n",
    "\n",
    "data_dict = json.loads(data[0])\n",
    "\n",
    "# You can uncomment the code written below to see the output\n",
    "# It is not shown cz output size is very big \n",
    "\n",
    "# data_dict"
   ]
  },
  {
   "cell_type": "code",
   "execution_count": 3,
   "metadata": {},
   "outputs": [],
   "source": [
    "# Deleting 'README' key from the dictionary\n",
    "\n",
    "del data_dict['README']\n",
    "\n",
    "# You can uncomment the code written below to see the output\n",
    "# It is not shown cz output size is very big \n",
    "\n",
    "# data_dict"
   ]
  },
  {
   "cell_type": "markdown",
   "metadata": {},
   "source": [
    "## Structuring the data\n",
    "\n",
    "Now, we have a dictionary in which key of every element is the place from where the digital nomads travelled and the value contains a dictionary which shows the cities they travelled to and the number of times they travelled.\n",
    "Now we have to convert this data into 3 python lists with each having values, the city from where the digital nomads travelled, the city where they travelled to, and the number of times they travelled respectively"
   ]
  },
  {
   "cell_type": "code",
   "execution_count": 4,
   "metadata": {},
   "outputs": [],
   "source": [
    "from_cities = []\n",
    "to_cities = []\n",
    "number_of_trips = []"
   ]
  },
  {
   "cell_type": "code",
   "execution_count": null,
   "metadata": {},
   "outputs": [],
   "source": []
  }
 ],
 "metadata": {
  "kernelspec": {
   "display_name": "Python 3",
   "language": "python",
   "name": "python3"
  },
  "language_info": {
   "codemirror_mode": {
    "name": "ipython",
    "version": 3
   },
   "file_extension": ".py",
   "mimetype": "text/x-python",
   "name": "python",
   "nbconvert_exporter": "python",
   "pygments_lexer": "ipython3",
   "version": "3.8.5"
  }
 },
 "nbformat": 4,
 "nbformat_minor": 4
}
