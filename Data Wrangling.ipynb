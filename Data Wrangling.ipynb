{
 "cells": [
  {
   "cell_type": "code",
   "execution_count": 1,
   "metadata": {},
   "outputs": [],
   "source": [
    "# Important libraries for complete program execution\n",
    "\n",
    "import json\n",
    "import pandas as pd\n",
    "import numpy as np"
   ]
  },
  {
   "cell_type": "markdown",
   "metadata": {},
   "source": [
    "## Data Wrangling\n",
    "\n",
    "The Dataset we have is in unstructured format (.txt file). Therefore, we first need to structure it and convert it into a format which is easier to work on."
   ]
  },
  {
   "cell_type": "code",
   "execution_count": 2,
   "metadata": {},
   "outputs": [
    {
     "data": {
      "text/plain": [
       "'{\"README\":[\"Please mention and link back to Nomad List when you use this data\",\"https:\\\\/\\\\/nomadlist.com\\\\/graph\",\"Last updated 22 hours ago\"],\"lisbon-portugal\":{\"porto-portugal\":134,\"madrid-spain\":66,\"london-united-kingdom\":57,\"barcelona-spain\":53,\"paris-france\":43,\"amsterdam-netherlands\":42,\"berlin-germany\":36,\"lagos-algarve-portugal\":24,\"madeira-portugal\":24,\"ericeira-portugal\":23},\"madeira-portugal\":{\"lisbon-portugal\":26,\"berlin-germany\":4,\"las-palmas-canary-islands-spain\":3,\"porto-portugal\":3,\"london-united-kingdom\":2,\"barcelona-spain\":2,\"paris-france\":2,\"warsaw-poland\":1,\"corralejo-canary-islands-spain\":1,\"rio-de-janeiro-brazil\":1},\"porto-portugal\":{\"lisbon-portugal\":105,\"london-united-kingdom\":34,\"barcelona-spain\":25,\"madrid-spain\":15,\"amsterdam-netherlands\":12,\"berlin-germany\":11,\"paris-france\":10,\"krakow-poland\":6,\"madeira-portugal\":6,\"new-york-city-ny-united-states\":6},\"las-palmas-canary-islands-spain\":{\"madrid-spain\":17,\"london-united-kingdom\":16,\"tenerife-canary-islands-spain'"
      ]
     },
     "execution_count": 2,
     "metadata": {},
     "output_type": "execute_result"
    }
   ],
   "source": [
    "with open(\"Datasets/Digital Nomad Travel Logs.txt\") as file:\n",
    "    data = file.readlines()\n",
    "\n",
    "# Showing a sample of current data    \n",
    "data[0][:1000]"
   ]
  },
  {
   "cell_type": "markdown",
   "metadata": {},
   "source": [
    "## String Dictionary to Dictionary\n",
    "\n",
    "As we can see the data currently is a list with only 1 element which is a string dictionary. Our task for now is to convert that string dictionary into a dictionary. For this we will use the json package of Python"
   ]
  },
  {
   "cell_type": "code",
   "execution_count": 3,
   "metadata": {},
   "outputs": [
    {
     "data": {
      "text/plain": [
       "[('README',\n",
       "  ['Please mention and link back to Nomad List when you use this data',\n",
       "   'https://nomadlist.com/graph',\n",
       "   'Last updated 22 hours ago']),\n",
       " ('lisbon-portugal',\n",
       "  {'porto-portugal': 134,\n",
       "   'madrid-spain': 66,\n",
       "   'london-united-kingdom': 57,\n",
       "   'barcelona-spain': 53,\n",
       "   'paris-france': 43,\n",
       "   'amsterdam-netherlands': 42,\n",
       "   'berlin-germany': 36,\n",
       "   'lagos-algarve-portugal': 24,\n",
       "   'madeira-portugal': 24,\n",
       "   'ericeira-portugal': 23})]"
      ]
     },
     "execution_count": 3,
     "metadata": {},
     "output_type": "execute_result"
    }
   ],
   "source": [
    "data_dict = json.loads(data[0])\n",
    "\n",
    "# Showing dictionary sample in key value pair format\n",
    "list(data_dict.items())[:2]"
   ]
  },
  {
   "cell_type": "code",
   "execution_count": 4,
   "metadata": {},
   "outputs": [
    {
     "data": {
      "text/plain": [
       "[('lisbon-portugal',\n",
       "  {'porto-portugal': 134,\n",
       "   'madrid-spain': 66,\n",
       "   'london-united-kingdom': 57,\n",
       "   'barcelona-spain': 53,\n",
       "   'paris-france': 43,\n",
       "   'amsterdam-netherlands': 42,\n",
       "   'berlin-germany': 36,\n",
       "   'lagos-algarve-portugal': 24,\n",
       "   'madeira-portugal': 24,\n",
       "   'ericeira-portugal': 23}),\n",
       " ('madeira-portugal',\n",
       "  {'lisbon-portugal': 26,\n",
       "   'berlin-germany': 4,\n",
       "   'las-palmas-canary-islands-spain': 3,\n",
       "   'porto-portugal': 3,\n",
       "   'london-united-kingdom': 2,\n",
       "   'barcelona-spain': 2,\n",
       "   'paris-france': 2,\n",
       "   'warsaw-poland': 1,\n",
       "   'corralejo-canary-islands-spain': 1,\n",
       "   'rio-de-janeiro-brazil': 1})]"
      ]
     },
     "execution_count": 4,
     "metadata": {},
     "output_type": "execute_result"
    }
   ],
   "source": [
    "# Deleting 'README' key from the dictionary\n",
    "\n",
    "del data_dict['README']\n",
    "\n",
    "# Showing dictionary sample in key value pair format\n",
    "list(data_dict.items())[:2]"
   ]
  },
  {
   "cell_type": "markdown",
   "metadata": {},
   "source": [
    "## Structuring the data\n",
    "\n",
    "Now, we have a dictionary in which key of every element is the place from where the digital nomads travelled and the value contains a dictionary which shows the cities they travelled to and the number of times they travelled.\n",
    "Now we have to convert this data into 3 python lists with each having values, the city from where the digital nomads travelled, the city where they travelled to, and the number of times they travelled respectively"
   ]
  },
  {
   "cell_type": "code",
   "execution_count": 5,
   "metadata": {},
   "outputs": [],
   "source": [
    "from_cities = []\n",
    "to_cities = []\n",
    "number_of_trips = []"
   ]
  },
  {
   "cell_type": "markdown",
   "metadata": {},
   "source": [
    "When we iterate over the dictonary, we can see that the format of dictionary is something like this:\n",
    "The key of the key value pair represents the city from which the travel was made. The value on the other hand is again a dictionary where key represents the city to which the travel was made and value represents the number of times the travel was made."
   ]
  },
  {
   "cell_type": "code",
   "execution_count": 6,
   "metadata": {},
   "outputs": [],
   "source": [
    "# iterating over the dictionary to separate all its key value pairs and form 3 lists with required information\n",
    "\n",
    "for key,value in data_dict.items():\n",
    "    if type(value) == list:\n",
    "        continue\n",
    "    for k,v in value.items():\n",
    "        from_cities.append(key)\n",
    "        to_cities.append(k)\n",
    "        number_of_trips.append(v)"
   ]
  },
  {
   "cell_type": "code",
   "execution_count": 7,
   "metadata": {},
   "outputs": [
    {
     "data": {
      "text/html": [
       "<div>\n",
       "<style scoped>\n",
       "    .dataframe tbody tr th:only-of-type {\n",
       "        vertical-align: middle;\n",
       "    }\n",
       "\n",
       "    .dataframe tbody tr th {\n",
       "        vertical-align: top;\n",
       "    }\n",
       "\n",
       "    .dataframe thead th {\n",
       "        text-align: right;\n",
       "    }\n",
       "</style>\n",
       "<table border=\"1\" class=\"dataframe\">\n",
       "  <thead>\n",
       "    <tr style=\"text-align: right;\">\n",
       "      <th></th>\n",
       "      <th>From City</th>\n",
       "      <th>From Country</th>\n",
       "      <th>To City</th>\n",
       "      <th>To Country</th>\n",
       "      <th>Number of Trips</th>\n",
       "    </tr>\n",
       "  </thead>\n",
       "  <tbody>\n",
       "    <tr>\n",
       "      <th>0</th>\n",
       "      <td>lisbon-portugal</td>\n",
       "      <td>lisbon-portugal</td>\n",
       "      <td>porto-portugal</td>\n",
       "      <td>porto-portugal</td>\n",
       "      <td>134</td>\n",
       "    </tr>\n",
       "    <tr>\n",
       "      <th>1</th>\n",
       "      <td>lisbon-portugal</td>\n",
       "      <td>lisbon-portugal</td>\n",
       "      <td>madrid-spain</td>\n",
       "      <td>madrid-spain</td>\n",
       "      <td>66</td>\n",
       "    </tr>\n",
       "    <tr>\n",
       "      <th>2</th>\n",
       "      <td>lisbon-portugal</td>\n",
       "      <td>lisbon-portugal</td>\n",
       "      <td>london-united-kingdom</td>\n",
       "      <td>london-united-kingdom</td>\n",
       "      <td>57</td>\n",
       "    </tr>\n",
       "    <tr>\n",
       "      <th>3</th>\n",
       "      <td>lisbon-portugal</td>\n",
       "      <td>lisbon-portugal</td>\n",
       "      <td>barcelona-spain</td>\n",
       "      <td>barcelona-spain</td>\n",
       "      <td>53</td>\n",
       "    </tr>\n",
       "    <tr>\n",
       "      <th>4</th>\n",
       "      <td>lisbon-portugal</td>\n",
       "      <td>lisbon-portugal</td>\n",
       "      <td>paris-france</td>\n",
       "      <td>paris-france</td>\n",
       "      <td>43</td>\n",
       "    </tr>\n",
       "  </tbody>\n",
       "</table>\n",
       "</div>"
      ],
      "text/plain": [
       "         From City     From Country                To City  \\\n",
       "0  lisbon-portugal  lisbon-portugal         porto-portugal   \n",
       "1  lisbon-portugal  lisbon-portugal           madrid-spain   \n",
       "2  lisbon-portugal  lisbon-portugal  london-united-kingdom   \n",
       "3  lisbon-portugal  lisbon-portugal        barcelona-spain   \n",
       "4  lisbon-portugal  lisbon-portugal           paris-france   \n",
       "\n",
       "              To Country  Number of Trips  \n",
       "0         porto-portugal              134  \n",
       "1           madrid-spain               66  \n",
       "2  london-united-kingdom               57  \n",
       "3        barcelona-spain               53  \n",
       "4           paris-france               43  "
      ]
     },
     "execution_count": 7,
     "metadata": {},
     "output_type": "execute_result"
    }
   ],
   "source": [
    "df = pd.DataFrame(list(zip(from_cities, from_cities, to_cities, to_cities, number_of_trips)), \n",
    "                  columns = ['From City', 'From Country', 'To City', 'To Country', 'Number of Trips'])\n",
    "df.head()"
   ]
  },
  {
   "cell_type": "markdown",
   "metadata": {},
   "source": [
    "## Separating Country and City in 'From City' and 'From Country' Column"
   ]
  },
  {
   "cell_type": "code",
   "execution_count": 8,
   "metadata": {},
   "outputs": [
    {
     "data": {
      "text/html": [
       "<div>\n",
       "<style scoped>\n",
       "    .dataframe tbody tr th:only-of-type {\n",
       "        vertical-align: middle;\n",
       "    }\n",
       "\n",
       "    .dataframe tbody tr th {\n",
       "        vertical-align: top;\n",
       "    }\n",
       "\n",
       "    .dataframe thead th {\n",
       "        text-align: right;\n",
       "    }\n",
       "</style>\n",
       "<table border=\"1\" class=\"dataframe\">\n",
       "  <thead>\n",
       "    <tr style=\"text-align: right;\">\n",
       "      <th></th>\n",
       "      <th>From City</th>\n",
       "      <th>From Country</th>\n",
       "      <th>To City</th>\n",
       "      <th>To Country</th>\n",
       "      <th>Number of Trips</th>\n",
       "    </tr>\n",
       "  </thead>\n",
       "  <tbody>\n",
       "    <tr>\n",
       "      <th>0</th>\n",
       "      <td>lisbon</td>\n",
       "      <td>portugal</td>\n",
       "      <td>porto-portugal</td>\n",
       "      <td>porto-portugal</td>\n",
       "      <td>134</td>\n",
       "    </tr>\n",
       "    <tr>\n",
       "      <th>1</th>\n",
       "      <td>lisbon</td>\n",
       "      <td>portugal</td>\n",
       "      <td>madrid-spain</td>\n",
       "      <td>madrid-spain</td>\n",
       "      <td>66</td>\n",
       "    </tr>\n",
       "    <tr>\n",
       "      <th>2</th>\n",
       "      <td>lisbon</td>\n",
       "      <td>portugal</td>\n",
       "      <td>london-united-kingdom</td>\n",
       "      <td>london-united-kingdom</td>\n",
       "      <td>57</td>\n",
       "    </tr>\n",
       "    <tr>\n",
       "      <th>3</th>\n",
       "      <td>lisbon</td>\n",
       "      <td>portugal</td>\n",
       "      <td>barcelona-spain</td>\n",
       "      <td>barcelona-spain</td>\n",
       "      <td>53</td>\n",
       "    </tr>\n",
       "    <tr>\n",
       "      <th>4</th>\n",
       "      <td>lisbon</td>\n",
       "      <td>portugal</td>\n",
       "      <td>paris-france</td>\n",
       "      <td>paris-france</td>\n",
       "      <td>43</td>\n",
       "    </tr>\n",
       "  </tbody>\n",
       "</table>\n",
       "</div>"
      ],
      "text/plain": [
       "  From City From Country                To City             To Country  \\\n",
       "0    lisbon     portugal         porto-portugal         porto-portugal   \n",
       "1    lisbon     portugal           madrid-spain           madrid-spain   \n",
       "2    lisbon     portugal  london-united-kingdom  london-united-kingdom   \n",
       "3    lisbon     portugal        barcelona-spain        barcelona-spain   \n",
       "4    lisbon     portugal           paris-france           paris-france   \n",
       "\n",
       "   Number of Trips  \n",
       "0              134  \n",
       "1               66  \n",
       "2               57  \n",
       "3               53  \n",
       "4               43  "
      ]
     },
     "execution_count": 8,
     "metadata": {},
     "output_type": "execute_result"
    }
   ],
   "source": [
    "cities = []\n",
    "countries = []\n",
    "\n",
    "# checklist of countries which require cutting 3 words from the end\n",
    "checklist_3words = ['united-arab-emirates', 'papua-new-guinea']\n",
    "\n",
    "# checklist of countries which require cutting 2 words from the end\n",
    "checklist_2words = ['new-zealand', 'south-korea', 'cote-divoire', 'cook-islands', 'south-africa', 'saudi-arabia', \n",
    "                    'sierra-leone', 'hong-kong', 'solomon-islands', 'dr-congo', 'united-kingdom', 'new-caledonia']\n",
    "\n",
    "for city in df['From City']:\n",
    "    country = ''\n",
    "\n",
    "    # country and city both are of one word only\n",
    "    if city.count('-') == 1:\n",
    "        country = city.split('-')[1]\n",
    "        city = city.split('-')[0]\n",
    "\n",
    "    # country is United States\n",
    "    elif 'united-states' in city:\n",
    "        country = city.split('-')[-2:]\n",
    "        country = ' '.join(country)\n",
    "        city = city.split('-')[:-3]\n",
    "        city = ' '.join(city)\n",
    "    \n",
    "    # country is of 3 words or requires cutting 3 words from the end\n",
    "    elif any(c in city for c in checklist_3words):\n",
    "        country = city.split('-')[-3:]\n",
    "        country = ' '.join(country)\n",
    "        city = city.split('-')[:-3]\n",
    "        city = ' '.join(city)\n",
    "    \n",
    "    # country is of 2 words or requires cutting 2 words from the end\n",
    "    elif any(c in city for c in checklist_2words):\n",
    "        country = city.split('-')[-2:]\n",
    "        country = ' '.join(country)\n",
    "        city = city.split('-')[:-2]\n",
    "        city = ' '.join(city)\n",
    "        \n",
    "    # country is of 1 word but city is more than 1 word long\n",
    "    else:\n",
    "        country = city.split('-')[-1]\n",
    "        city = city.split('-')[:-1]\n",
    "        city = ' '.join(city)\n",
    "    \n",
    "    cities.append(city)\n",
    "    countries.append(country)\n",
    "\n",
    "df['From City'] = cities\n",
    "df['From Country'] = countries\n",
    "df.head()"
   ]
  },
  {
   "cell_type": "markdown",
   "metadata": {},
   "source": [
    "## Separating Country and City in 'To City' and 'To Country' Column"
   ]
  },
  {
   "cell_type": "code",
   "execution_count": 9,
   "metadata": {},
   "outputs": [
    {
     "data": {
      "text/html": [
       "<div>\n",
       "<style scoped>\n",
       "    .dataframe tbody tr th:only-of-type {\n",
       "        vertical-align: middle;\n",
       "    }\n",
       "\n",
       "    .dataframe tbody tr th {\n",
       "        vertical-align: top;\n",
       "    }\n",
       "\n",
       "    .dataframe thead th {\n",
       "        text-align: right;\n",
       "    }\n",
       "</style>\n",
       "<table border=\"1\" class=\"dataframe\">\n",
       "  <thead>\n",
       "    <tr style=\"text-align: right;\">\n",
       "      <th></th>\n",
       "      <th>From City</th>\n",
       "      <th>From Country</th>\n",
       "      <th>To City</th>\n",
       "      <th>To Country</th>\n",
       "      <th>Number of Trips</th>\n",
       "    </tr>\n",
       "  </thead>\n",
       "  <tbody>\n",
       "    <tr>\n",
       "      <th>0</th>\n",
       "      <td>lisbon</td>\n",
       "      <td>portugal</td>\n",
       "      <td>porto</td>\n",
       "      <td>portugal</td>\n",
       "      <td>134</td>\n",
       "    </tr>\n",
       "    <tr>\n",
       "      <th>1</th>\n",
       "      <td>lisbon</td>\n",
       "      <td>portugal</td>\n",
       "      <td>madrid</td>\n",
       "      <td>spain</td>\n",
       "      <td>66</td>\n",
       "    </tr>\n",
       "    <tr>\n",
       "      <th>2</th>\n",
       "      <td>lisbon</td>\n",
       "      <td>portugal</td>\n",
       "      <td>london</td>\n",
       "      <td>united kingdom</td>\n",
       "      <td>57</td>\n",
       "    </tr>\n",
       "    <tr>\n",
       "      <th>3</th>\n",
       "      <td>lisbon</td>\n",
       "      <td>portugal</td>\n",
       "      <td>barcelona</td>\n",
       "      <td>spain</td>\n",
       "      <td>53</td>\n",
       "    </tr>\n",
       "    <tr>\n",
       "      <th>4</th>\n",
       "      <td>lisbon</td>\n",
       "      <td>portugal</td>\n",
       "      <td>paris</td>\n",
       "      <td>france</td>\n",
       "      <td>43</td>\n",
       "    </tr>\n",
       "  </tbody>\n",
       "</table>\n",
       "</div>"
      ],
      "text/plain": [
       "  From City From Country    To City      To Country  Number of Trips\n",
       "0    lisbon     portugal      porto        portugal              134\n",
       "1    lisbon     portugal     madrid           spain               66\n",
       "2    lisbon     portugal     london  united kingdom               57\n",
       "3    lisbon     portugal  barcelona           spain               53\n",
       "4    lisbon     portugal      paris          france               43"
      ]
     },
     "execution_count": 9,
     "metadata": {},
     "output_type": "execute_result"
    }
   ],
   "source": [
    "cities = []\n",
    "countries = []\n",
    "\n",
    "# checklist of countries which require cutting 3 words from the end\n",
    "checklist_3words = ['united-arab-emirates', 'papua-new-guinea']\n",
    "\n",
    "# checklist of countries which require cutting 2 words from the end\n",
    "checklist_2words = ['new-zealand', 'south-korea', 'cote-divoire', 'cook-islands', 'south-africa', 'saudi-arabia', \n",
    "                    'sierra-leone', 'hong-kong', 'solomon-islands', 'dr-congo', 'united-kingdom', 'new-caledonia']\n",
    "\n",
    "for city in df['To City']:\n",
    "    country = ''\n",
    "\n",
    "    # country and city both are of one word only\n",
    "    if city.count('-') == 1:\n",
    "        country = city.split('-')[1]\n",
    "        city = city.split('-')[0]\n",
    "\n",
    "    # country is United States\n",
    "    elif 'united-states' in city:\n",
    "        country = city.split('-')[-2:]\n",
    "        country = ' '.join(country)\n",
    "        city = city.split('-')[:-3]\n",
    "        city = ' '.join(city)\n",
    "    \n",
    "    # country is of 3 words or requires cutting 3 words from the end\n",
    "    elif any(c in city for c in checklist_3words):\n",
    "        country = city.split('-')[-3:]\n",
    "        country = ' '.join(country)\n",
    "        city = city.split('-')[:-3]\n",
    "        city = ' '.join(city)\n",
    "    \n",
    "    # country is of 2 words or requires cutting 2 words from the end\n",
    "    elif any(c in city for c in checklist_2words):\n",
    "        country = city.split('-')[-2:]\n",
    "        country = ' '.join(country)\n",
    "        city = city.split('-')[:-2]\n",
    "        city = ' '.join(city)\n",
    "        \n",
    "    # country is of 1 word but city is more than 1 word long\n",
    "    else:\n",
    "        country = city.split('-')[-1]\n",
    "        city = city.split('-')[:-1]\n",
    "        city = ' '.join(city)\n",
    "    \n",
    "    cities.append(city)\n",
    "    countries.append(country)\n",
    "\n",
    "df['To City'] = cities\n",
    "df['To Country'] = countries\n",
    "df.head()"
   ]
  },
  {
   "cell_type": "markdown",
   "metadata": {},
   "source": [
    "## Capitalizing city and country names"
   ]
  },
  {
   "cell_type": "code",
   "execution_count": 10,
   "metadata": {},
   "outputs": [
    {
     "data": {
      "text/html": [
       "<div>\n",
       "<style scoped>\n",
       "    .dataframe tbody tr th:only-of-type {\n",
       "        vertical-align: middle;\n",
       "    }\n",
       "\n",
       "    .dataframe tbody tr th {\n",
       "        vertical-align: top;\n",
       "    }\n",
       "\n",
       "    .dataframe thead th {\n",
       "        text-align: right;\n",
       "    }\n",
       "</style>\n",
       "<table border=\"1\" class=\"dataframe\">\n",
       "  <thead>\n",
       "    <tr style=\"text-align: right;\">\n",
       "      <th></th>\n",
       "      <th>From City</th>\n",
       "      <th>From Country</th>\n",
       "      <th>To City</th>\n",
       "      <th>To Country</th>\n",
       "      <th>Number of Trips</th>\n",
       "    </tr>\n",
       "  </thead>\n",
       "  <tbody>\n",
       "    <tr>\n",
       "      <th>0</th>\n",
       "      <td>Lisbon</td>\n",
       "      <td>Portugal</td>\n",
       "      <td>Porto</td>\n",
       "      <td>Portugal</td>\n",
       "      <td>134</td>\n",
       "    </tr>\n",
       "    <tr>\n",
       "      <th>1</th>\n",
       "      <td>Lisbon</td>\n",
       "      <td>Portugal</td>\n",
       "      <td>Madrid</td>\n",
       "      <td>Spain</td>\n",
       "      <td>66</td>\n",
       "    </tr>\n",
       "    <tr>\n",
       "      <th>2</th>\n",
       "      <td>Lisbon</td>\n",
       "      <td>Portugal</td>\n",
       "      <td>London</td>\n",
       "      <td>United Kingdom</td>\n",
       "      <td>57</td>\n",
       "    </tr>\n",
       "    <tr>\n",
       "      <th>3</th>\n",
       "      <td>Lisbon</td>\n",
       "      <td>Portugal</td>\n",
       "      <td>Barcelona</td>\n",
       "      <td>Spain</td>\n",
       "      <td>53</td>\n",
       "    </tr>\n",
       "    <tr>\n",
       "      <th>4</th>\n",
       "      <td>Lisbon</td>\n",
       "      <td>Portugal</td>\n",
       "      <td>Paris</td>\n",
       "      <td>France</td>\n",
       "      <td>43</td>\n",
       "    </tr>\n",
       "  </tbody>\n",
       "</table>\n",
       "</div>"
      ],
      "text/plain": [
       "  From City From Country    To City      To Country  Number of Trips\n",
       "0    Lisbon     Portugal      Porto        Portugal              134\n",
       "1    Lisbon     Portugal     Madrid           Spain               66\n",
       "2    Lisbon     Portugal     London  United Kingdom               57\n",
       "3    Lisbon     Portugal  Barcelona           Spain               53\n",
       "4    Lisbon     Portugal      Paris          France               43"
      ]
     },
     "execution_count": 10,
     "metadata": {},
     "output_type": "execute_result"
    }
   ],
   "source": [
    "df['From City'] = df['From City'].str.title()\n",
    "df['From Country'] = df['From Country'].str.title()\n",
    "df['To City'] = df['To City'].str.title()\n",
    "df['To Country'] = df['To Country'].str.title()\n",
    "df.head()"
   ]
  },
  {
   "cell_type": "markdown",
   "metadata": {},
   "source": [
    "## Saving resultant dataframe as a CSV file"
   ]
  },
  {
   "cell_type": "code",
   "execution_count": 11,
   "metadata": {},
   "outputs": [],
   "source": [
    "df.to_csv('Datasets/Digital Nomad Travel Logs.csv')"
   ]
  }
 ],
 "metadata": {
  "kernelspec": {
   "display_name": "Python 3",
   "language": "python",
   "name": "python3"
  },
  "language_info": {
   "codemirror_mode": {
    "name": "ipython",
    "version": 3
   },
   "file_extension": ".py",
   "mimetype": "text/x-python",
   "name": "python",
   "nbconvert_exporter": "python",
   "pygments_lexer": "ipython3",
   "version": "3.8.5"
  }
 },
 "nbformat": 4,
 "nbformat_minor": 4
}
